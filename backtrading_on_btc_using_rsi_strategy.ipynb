{
  "nbformat": 4,
  "nbformat_minor": 0,
  "metadata": {
    "colab": {
      "name": "backtrading_on_btc_using_rsi_strategy.ipynb",
      "provenance": [],
      "authorship_tag": "ABX9TyO2SLgUyXzjp+og5XKpOVL/",
      "include_colab_link": true
    },
    "kernelspec": {
      "name": "python3",
      "display_name": "Python 3"
    },
    "language_info": {
      "name": "python"
    }
  },
  "cells": [
    {
      "cell_type": "markdown",
      "metadata": {
        "id": "view-in-github",
        "colab_type": "text"
      },
      "source": [
        "<a href=\"https://colab.research.google.com/github/harsh16kh/stock_price_analysis/blob/main/backtrading_on_btc_using_rsi_strategy.ipynb\" target=\"_parent\"><img src=\"https://colab.research.google.com/assets/colab-badge.svg\" alt=\"Open In Colab\"/></a>"
      ]
    },
    {
      "cell_type": "code",
      "execution_count": null,
      "metadata": {
        "colab": {
          "resources": {
            "http://localhost:8080/nbextensions/google.colab/files.js": {
              "data": "Ly8gQ29weXJpZ2h0IDIwMTcgR29vZ2xlIExMQwovLwovLyBMaWNlbnNlZCB1bmRlciB0aGUgQXBhY2hlIExpY2Vuc2UsIFZlcnNpb24gMi4wICh0aGUgIkxpY2Vuc2UiKTsKLy8geW91IG1heSBub3QgdXNlIHRoaXMgZmlsZSBleGNlcHQgaW4gY29tcGxpYW5jZSB3aXRoIHRoZSBMaWNlbnNlLgovLyBZb3UgbWF5IG9idGFpbiBhIGNvcHkgb2YgdGhlIExpY2Vuc2UgYXQKLy8KLy8gICAgICBodHRwOi8vd3d3LmFwYWNoZS5vcmcvbGljZW5zZXMvTElDRU5TRS0yLjAKLy8KLy8gVW5sZXNzIHJlcXVpcmVkIGJ5IGFwcGxpY2FibGUgbGF3IG9yIGFncmVlZCB0byBpbiB3cml0aW5nLCBzb2Z0d2FyZQovLyBkaXN0cmlidXRlZCB1bmRlciB0aGUgTGljZW5zZSBpcyBkaXN0cmlidXRlZCBvbiBhbiAiQVMgSVMiIEJBU0lTLAovLyBXSVRIT1VUIFdBUlJBTlRJRVMgT1IgQ09ORElUSU9OUyBPRiBBTlkgS0lORCwgZWl0aGVyIGV4cHJlc3Mgb3IgaW1wbGllZC4KLy8gU2VlIHRoZSBMaWNlbnNlIGZvciB0aGUgc3BlY2lmaWMgbGFuZ3VhZ2UgZ292ZXJuaW5nIHBlcm1pc3Npb25zIGFuZAovLyBsaW1pdGF0aW9ucyB1bmRlciB0aGUgTGljZW5zZS4KCi8qKgogKiBAZmlsZW92ZXJ2aWV3IEhlbHBlcnMgZm9yIGdvb2dsZS5jb2xhYiBQeXRob24gbW9kdWxlLgogKi8KKGZ1bmN0aW9uKHNjb3BlKSB7CmZ1bmN0aW9uIHNwYW4odGV4dCwgc3R5bGVBdHRyaWJ1dGVzID0ge30pIHsKICBjb25zdCBlbGVtZW50ID0gZG9jdW1lbnQuY3JlYXRlRWxlbWVudCgnc3BhbicpOwogIGVsZW1lbnQudGV4dENvbnRlbnQgPSB0ZXh0OwogIGZvciAoY29uc3Qga2V5IG9mIE9iamVjdC5rZXlzKHN0eWxlQXR0cmlidXRlcykpIHsKICAgIGVsZW1lbnQuc3R5bGVba2V5XSA9IHN0eWxlQXR0cmlidXRlc1trZXldOwogIH0KICByZXR1cm4gZWxlbWVudDsKfQoKLy8gTWF4IG51bWJlciBvZiBieXRlcyB3aGljaCB3aWxsIGJlIHVwbG9hZGVkIGF0IGEgdGltZS4KY29uc3QgTUFYX1BBWUxPQURfU0laRSA9IDEwMCAqIDEwMjQ7CgpmdW5jdGlvbiBfdXBsb2FkRmlsZXMoaW5wdXRJZCwgb3V0cHV0SWQpIHsKICBjb25zdCBzdGVwcyA9IHVwbG9hZEZpbGVzU3RlcChpbnB1dElkLCBvdXRwdXRJZCk7CiAgY29uc3Qgb3V0cHV0RWxlbWVudCA9IGRvY3VtZW50LmdldEVsZW1lbnRCeUlkKG91dHB1dElkKTsKICAvLyBDYWNoZSBzdGVwcyBvbiB0aGUgb3V0cHV0RWxlbWVudCB0byBtYWtlIGl0IGF2YWlsYWJsZSBmb3IgdGhlIG5leHQgY2FsbAogIC8vIHRvIHVwbG9hZEZpbGVzQ29udGludWUgZnJvbSBQeXRob24uCiAgb3V0cHV0RWxlbWVudC5zdGVwcyA9IHN0ZXBzOwoKICByZXR1cm4gX3VwbG9hZEZpbGVzQ29udGludWUob3V0cHV0SWQpOwp9CgovLyBUaGlzIGlzIHJvdWdobHkgYW4gYXN5bmMgZ2VuZXJhdG9yIChub3Qgc3VwcG9ydGVkIGluIHRoZSBicm93c2VyIHlldCksCi8vIHdoZXJlIHRoZXJlIGFyZSBtdWx0aXBsZSBhc3luY2hyb25vdXMgc3RlcHMgYW5kIHRoZSBQeXRob24gc2lkZSBpcyBnb2luZwovLyB0byBwb2xsIGZvciBjb21wbGV0aW9uIG9mIGVhY2ggc3RlcC4KLy8gVGhpcyB1c2VzIGEgUHJvbWlzZSB0byBibG9jayB0aGUgcHl0aG9uIHNpZGUgb24gY29tcGxldGlvbiBvZiBlYWNoIHN0ZXAsCi8vIHRoZW4gcGFzc2VzIHRoZSByZXN1bHQgb2YgdGhlIHByZXZpb3VzIHN0ZXAgYXMgdGhlIGlucHV0IHRvIHRoZSBuZXh0IHN0ZXAuCmZ1bmN0aW9uIF91cGxvYWRGaWxlc0NvbnRpbnVlKG91dHB1dElkKSB7CiAgY29uc3Qgb3V0cHV0RWxlbWVudCA9IGRvY3VtZW50LmdldEVsZW1lbnRCeUlkKG91dHB1dElkKTsKICBjb25zdCBzdGVwcyA9IG91dHB1dEVsZW1lbnQuc3RlcHM7CgogIGNvbnN0IG5leHQgPSBzdGVwcy5uZXh0KG91dHB1dEVsZW1lbnQubGFzdFByb21pc2VWYWx1ZSk7CiAgcmV0dXJuIFByb21pc2UucmVzb2x2ZShuZXh0LnZhbHVlLnByb21pc2UpLnRoZW4oKHZhbHVlKSA9PiB7CiAgICAvLyBDYWNoZSB0aGUgbGFzdCBwcm9taXNlIHZhbHVlIHRvIG1ha2UgaXQgYXZhaWxhYmxlIHRvIHRoZSBuZXh0CiAgICAvLyBzdGVwIG9mIHRoZSBnZW5lcmF0b3IuCiAgICBvdXRwdXRFbGVtZW50Lmxhc3RQcm9taXNlVmFsdWUgPSB2YWx1ZTsKICAgIHJldHVybiBuZXh0LnZhbHVlLnJlc3BvbnNlOwogIH0pOwp9CgovKioKICogR2VuZXJhdG9yIGZ1bmN0aW9uIHdoaWNoIGlzIGNhbGxlZCBiZXR3ZWVuIGVhY2ggYXN5bmMgc3RlcCBvZiB0aGUgdXBsb2FkCiAqIHByb2Nlc3MuCiAqIEBwYXJhbSB7c3RyaW5nfSBpbnB1dElkIEVsZW1lbnQgSUQgb2YgdGhlIGlucHV0IGZpbGUgcGlja2VyIGVsZW1lbnQuCiAqIEBwYXJhbSB7c3RyaW5nfSBvdXRwdXRJZCBFbGVtZW50IElEIG9mIHRoZSBvdXRwdXQgZGlzcGxheS4KICogQHJldHVybiB7IUl0ZXJhYmxlPCFPYmplY3Q+fSBJdGVyYWJsZSBvZiBuZXh0IHN0ZXBzLgogKi8KZnVuY3Rpb24qIHVwbG9hZEZpbGVzU3RlcChpbnB1dElkLCBvdXRwdXRJZCkgewogIGNvbnN0IGlucHV0RWxlbWVudCA9IGRvY3VtZW50LmdldEVsZW1lbnRCeUlkKGlucHV0SWQpOwogIGlucHV0RWxlbWVudC5kaXNhYmxlZCA9IGZhbHNlOwoKICBjb25zdCBvdXRwdXRFbGVtZW50ID0gZG9jdW1lbnQuZ2V0RWxlbWVudEJ5SWQob3V0cHV0SWQpOwogIG91dHB1dEVsZW1lbnQuaW5uZXJIVE1MID0gJyc7CgogIGNvbnN0IHBpY2tlZFByb21pc2UgPSBuZXcgUHJvbWlzZSgocmVzb2x2ZSkgPT4gewogICAgaW5wdXRFbGVtZW50LmFkZEV2ZW50TGlzdGVuZXIoJ2NoYW5nZScsIChlKSA9PiB7CiAgICAgIHJlc29sdmUoZS50YXJnZXQuZmlsZXMpOwogICAgfSk7CiAgfSk7CgogIGNvbnN0IGNhbmNlbCA9IGRvY3VtZW50LmNyZWF0ZUVsZW1lbnQoJ2J1dHRvbicpOwogIGlucHV0RWxlbWVudC5wYXJlbnRFbGVtZW50LmFwcGVuZENoaWxkKGNhbmNlbCk7CiAgY2FuY2VsLnRleHRDb250ZW50ID0gJ0NhbmNlbCB1cGxvYWQnOwogIGNvbnN0IGNhbmNlbFByb21pc2UgPSBuZXcgUHJvbWlzZSgocmVzb2x2ZSkgPT4gewogICAgY2FuY2VsLm9uY2xpY2sgPSAoKSA9PiB7CiAgICAgIHJlc29sdmUobnVsbCk7CiAgICB9OwogIH0pOwoKICAvLyBXYWl0IGZvciB0aGUgdXNlciB0byBwaWNrIHRoZSBmaWxlcy4KICBjb25zdCBmaWxlcyA9IHlpZWxkIHsKICAgIHByb21pc2U6IFByb21pc2UucmFjZShbcGlja2VkUHJvbWlzZSwgY2FuY2VsUHJvbWlzZV0pLAogICAgcmVzcG9uc2U6IHsKICAgICAgYWN0aW9uOiAnc3RhcnRpbmcnLAogICAgfQogIH07CgogIGNhbmNlbC5yZW1vdmUoKTsKCiAgLy8gRGlzYWJsZSB0aGUgaW5wdXQgZWxlbWVudCBzaW5jZSBmdXJ0aGVyIHBpY2tzIGFyZSBub3QgYWxsb3dlZC4KICBpbnB1dEVsZW1lbnQuZGlzYWJsZWQgPSB0cnVlOwoKICBpZiAoIWZpbGVzKSB7CiAgICByZXR1cm4gewogICAgICByZXNwb25zZTogewogICAgICAgIGFjdGlvbjogJ2NvbXBsZXRlJywKICAgICAgfQogICAgfTsKICB9CgogIGZvciAoY29uc3QgZmlsZSBvZiBmaWxlcykgewogICAgY29uc3QgbGkgPSBkb2N1bWVudC5jcmVhdGVFbGVtZW50KCdsaScpOwogICAgbGkuYXBwZW5kKHNwYW4oZmlsZS5uYW1lLCB7Zm9udFdlaWdodDogJ2JvbGQnfSkpOwogICAgbGkuYXBwZW5kKHNwYW4oCiAgICAgICAgYCgke2ZpbGUudHlwZSB8fCAnbi9hJ30pIC0gJHtmaWxlLnNpemV9IGJ5dGVzLCBgICsKICAgICAgICBgbGFzdCBtb2RpZmllZDogJHsKICAgICAgICAgICAgZmlsZS5sYXN0TW9kaWZpZWREYXRlID8gZmlsZS5sYXN0TW9kaWZpZWREYXRlLnRvTG9jYWxlRGF0ZVN0cmluZygpIDoKICAgICAgICAgICAgICAgICAgICAgICAgICAgICAgICAgICAgJ24vYSd9IC0gYCkpOwogICAgY29uc3QgcGVyY2VudCA9IHNwYW4oJzAlIGRvbmUnKTsKICAgIGxpLmFwcGVuZENoaWxkKHBlcmNlbnQpOwoKICAgIG91dHB1dEVsZW1lbnQuYXBwZW5kQ2hpbGQobGkpOwoKICAgIGNvbnN0IGZpbGVEYXRhUHJvbWlzZSA9IG5ldyBQcm9taXNlKChyZXNvbHZlKSA9PiB7CiAgICAgIGNvbnN0IHJlYWRlciA9IG5ldyBGaWxlUmVhZGVyKCk7CiAgICAgIHJlYWRlci5vbmxvYWQgPSAoZSkgPT4gewogICAgICAgIHJlc29sdmUoZS50YXJnZXQucmVzdWx0KTsKICAgICAgfTsKICAgICAgcmVhZGVyLnJlYWRBc0FycmF5QnVmZmVyKGZpbGUpOwogICAgfSk7CiAgICAvLyBXYWl0IGZvciB0aGUgZGF0YSB0byBiZSByZWFkeS4KICAgIGxldCBmaWxlRGF0YSA9IHlpZWxkIHsKICAgICAgcHJvbWlzZTogZmlsZURhdGFQcm9taXNlLAogICAgICByZXNwb25zZTogewogICAgICAgIGFjdGlvbjogJ2NvbnRpbnVlJywKICAgICAgfQogICAgfTsKCiAgICAvLyBVc2UgYSBjaHVua2VkIHNlbmRpbmcgdG8gYXZvaWQgbWVzc2FnZSBzaXplIGxpbWl0cy4gU2VlIGIvNjIxMTU2NjAuCiAgICBsZXQgcG9zaXRpb24gPSAwOwogICAgZG8gewogICAgICBjb25zdCBsZW5ndGggPSBNYXRoLm1pbihmaWxlRGF0YS5ieXRlTGVuZ3RoIC0gcG9zaXRpb24sIE1BWF9QQVlMT0FEX1NJWkUpOwogICAgICBjb25zdCBjaHVuayA9IG5ldyBVaW50OEFycmF5KGZpbGVEYXRhLCBwb3NpdGlvbiwgbGVuZ3RoKTsKICAgICAgcG9zaXRpb24gKz0gbGVuZ3RoOwoKICAgICAgY29uc3QgYmFzZTY0ID0gYnRvYShTdHJpbmcuZnJvbUNoYXJDb2RlLmFwcGx5KG51bGwsIGNodW5rKSk7CiAgICAgIHlpZWxkIHsKICAgICAgICByZXNwb25zZTogewogICAgICAgICAgYWN0aW9uOiAnYXBwZW5kJywKICAgICAgICAgIGZpbGU6IGZpbGUubmFtZSwKICAgICAgICAgIGRhdGE6IGJhc2U2NCwKICAgICAgICB9LAogICAgICB9OwoKICAgICAgbGV0IHBlcmNlbnREb25lID0gZmlsZURhdGEuYnl0ZUxlbmd0aCA9PT0gMCA/CiAgICAgICAgICAxMDAgOgogICAgICAgICAgTWF0aC5yb3VuZCgocG9zaXRpb24gLyBmaWxlRGF0YS5ieXRlTGVuZ3RoKSAqIDEwMCk7CiAgICAgIHBlcmNlbnQudGV4dENvbnRlbnQgPSBgJHtwZXJjZW50RG9uZX0lIGRvbmVgOwoKICAgIH0gd2hpbGUgKHBvc2l0aW9uIDwgZmlsZURhdGEuYnl0ZUxlbmd0aCk7CiAgfQoKICAvLyBBbGwgZG9uZS4KICB5aWVsZCB7CiAgICByZXNwb25zZTogewogICAgICBhY3Rpb246ICdjb21wbGV0ZScsCiAgICB9CiAgfTsKfQoKc2NvcGUuZ29vZ2xlID0gc2NvcGUuZ29vZ2xlIHx8IHt9OwpzY29wZS5nb29nbGUuY29sYWIgPSBzY29wZS5nb29nbGUuY29sYWIgfHwge307CnNjb3BlLmdvb2dsZS5jb2xhYi5fZmlsZXMgPSB7CiAgX3VwbG9hZEZpbGVzLAogIF91cGxvYWRGaWxlc0NvbnRpbnVlLAp9Owp9KShzZWxmKTsK",
              "ok": true,
              "headers": [
                [
                  "content-type",
                  "application/javascript"
                ]
              ],
              "status": 200,
              "status_text": ""
            }
          },
          "base_uri": "https://localhost:8080/",
          "height": 74
        },
        "id": "WJqClQ9OjzLF",
        "outputId": "f5e324aa-207b-4e39-8ee7-9622d40929ac"
      },
      "outputs": [
        {
          "output_type": "display_data",
          "data": {
            "text/plain": [
              "<IPython.core.display.HTML object>"
            ],
            "text/html": [
              "\n",
              "     <input type=\"file\" id=\"files-f2226cb1-6b69-43e8-959c-f0b4b7baf33a\" name=\"files[]\" multiple disabled\n",
              "        style=\"border:none\" />\n",
              "     <output id=\"result-f2226cb1-6b69-43e8-959c-f0b4b7baf33a\">\n",
              "      Upload widget is only available when the cell has been executed in the\n",
              "      current browser session. Please rerun this cell to enable.\n",
              "      </output>\n",
              "      <script src=\"/nbextensions/google.colab/files.js\"></script> "
            ]
          },
          "metadata": {}
        },
        {
          "output_type": "stream",
          "name": "stdout",
          "text": [
            "Saving BTCUSDT-20210101-20210102-1m.csv to BTCUSDT-20210101-20210102-1m.csv\n"
          ]
        }
      ],
      "source": [
        "from google.colab import files\n",
        " \n",
        " \n",
        "uploaded = files.upload()"
      ]
    },
    {
      "cell_type": "code",
      "source": [
        "pip install config"
      ],
      "metadata": {
        "colab": {
          "base_uri": "https://localhost:8080/"
        },
        "id": "vXLIX7iRmmJS",
        "outputId": "e68f43f0-d902-4663-97c6-9737afedc193"
      },
      "execution_count": null,
      "outputs": [
        {
          "output_type": "stream",
          "name": "stdout",
          "text": [
            "Looking in indexes: https://pypi.org/simple, https://us-python.pkg.dev/colab-wheels/public/simple/\n",
            "Collecting config\n",
            "  Downloading config-0.5.1-py2.py3-none-any.whl (20 kB)\n",
            "Installing collected packages: config\n",
            "Successfully installed config-0.5.1\n"
          ]
        }
      ]
    },
    {
      "cell_type": "code",
      "source": [
        "pip install binance"
      ],
      "metadata": {
        "colab": {
          "base_uri": "https://localhost:8080/"
        },
        "id": "lfE7-lkqmu-l",
        "outputId": "28a612bb-b334-4335-e7e0-405b24053b2a"
      },
      "execution_count": null,
      "outputs": [
        {
          "output_type": "stream",
          "name": "stdout",
          "text": [
            "Looking in indexes: https://pypi.org/simple, https://us-python.pkg.dev/colab-wheels/public/simple/\n",
            "Collecting binance\n",
            "  Downloading binance-0.3-py2.py3-none-any.whl (3.8 kB)\n",
            "Installing collected packages: binance\n",
            "Successfully installed binance-0.3\n"
          ]
        }
      ]
    },
    {
      "cell_type": "code",
      "source": [
        "pip install binance.client"
      ],
      "metadata": {
        "colab": {
          "base_uri": "https://localhost:8080/"
        },
        "id": "oFFQT72Um2Rb",
        "outputId": "f8be5aec-d04b-4dcb-c082-b0bf7aaf2b33"
      },
      "execution_count": null,
      "outputs": [
        {
          "output_type": "stream",
          "name": "stdout",
          "text": [
            "Looking in indexes: https://pypi.org/simple, https://us-python.pkg.dev/colab-wheels/public/simple/\n",
            "\u001b[31mERROR: Could not find a version that satisfies the requirement binance.client (from versions: none)\u001b[0m\n",
            "\u001b[31mERROR: No matching distribution found for binance.client\u001b[0m\n"
          ]
        }
      ]
    },
    {
      "cell_type": "code",
      "source": [
        "python -m pip uninstall python-binance\n",
        "\n"
      ],
      "metadata": {
        "colab": {
          "base_uri": "https://localhost:8080/",
          "height": 130
        },
        "id": "cvspZTQqna25",
        "outputId": "a16781bb-6e98-4d42-a624-7e94ee92a658"
      },
      "execution_count": null,
      "outputs": [
        {
          "output_type": "error",
          "ename": "SyntaxError",
          "evalue": "ignored",
          "traceback": [
            "\u001b[0;36m  File \u001b[0;32m\"<ipython-input-11-266a124a02da>\"\u001b[0;36m, line \u001b[0;32m1\u001b[0m\n\u001b[0;31m    python -m pip uninstall python-binance\u001b[0m\n\u001b[0m                ^\u001b[0m\n\u001b[0;31mSyntaxError\u001b[0m\u001b[0;31m:\u001b[0m invalid syntax\n"
          ]
        }
      ]
    },
    {
      "cell_type": "code",
      "source": [
        "!pip install python-binance==0.7.5"
      ],
      "metadata": {
        "colab": {
          "base_uri": "https://localhost:8080/",
          "height": 1000
        },
        "id": "OXaKVmSXnoZr",
        "outputId": "0b562c23-4593-4b9f-9b10-ffa8f68d9bbd"
      },
      "execution_count": null,
      "outputs": [
        {
          "output_type": "stream",
          "name": "stdout",
          "text": [
            "Looking in indexes: https://pypi.org/simple, https://us-python.pkg.dev/colab-wheels/public/simple/\n",
            "Collecting python-binance==0.7.5\n",
            "  Downloading python_binance-0.7.5-py2.py3-none-any.whl (29 kB)\n",
            "Requirement already satisfied: six in /usr/local/lib/python3.7/dist-packages (from python-binance==0.7.5) (1.15.0)\n",
            "Collecting Twisted\n",
            "  Downloading Twisted-22.4.0-py3-none-any.whl (3.1 MB)\n",
            "\u001b[K     |████████████████████████████████| 3.1 MB 8.0 MB/s \n",
            "\u001b[?25hCollecting autobahn\n",
            "  Downloading autobahn-22.4.2.tar.gz (396 kB)\n",
            "\u001b[K     |████████████████████████████████| 396 kB 63.8 MB/s \n",
            "\u001b[?25hCollecting cryptography\n",
            "  Downloading cryptography-37.0.2-cp36-abi3-manylinux_2_24_x86_64.whl (4.0 MB)\n",
            "\u001b[K     |████████████████████████████████| 4.0 MB 39.6 MB/s \n",
            "\u001b[?25hCollecting service-identity\n",
            "  Downloading service_identity-21.1.0-py2.py3-none-any.whl (12 kB)\n",
            "Collecting dateparser\n",
            "  Downloading dateparser-1.1.1-py2.py3-none-any.whl (288 kB)\n",
            "\u001b[K     |████████████████████████████████| 288 kB 75.6 MB/s \n",
            "\u001b[?25hRequirement already satisfied: certifi in /usr/local/lib/python3.7/dist-packages (from python-binance==0.7.5) (2022.5.18.1)\n",
            "Collecting pyOpenSSL\n",
            "  Downloading pyOpenSSL-22.0.0-py2.py3-none-any.whl (55 kB)\n",
            "\u001b[K     |████████████████████████████████| 55 kB 3.9 MB/s \n",
            "\u001b[?25hRequirement already satisfied: requests in /usr/local/lib/python3.7/dist-packages (from python-binance==0.7.5) (2.23.0)\n",
            "Requirement already satisfied: urllib3 in /usr/local/lib/python3.7/dist-packages (from python-binance==0.7.5) (1.24.3)\n",
            "Collecting txaio>=21.2.1\n",
            "  Downloading txaio-22.2.1-py2.py3-none-any.whl (30 kB)\n",
            "Collecting hyperlink>=21.0.0\n",
            "  Downloading hyperlink-21.0.0-py2.py3-none-any.whl (74 kB)\n",
            "\u001b[K     |████████████████████████████████| 74 kB 3.8 MB/s \n",
            "\u001b[?25hRequirement already satisfied: setuptools in /usr/local/lib/python3.7/dist-packages (from autobahn->python-binance==0.7.5) (57.4.0)\n",
            "Requirement already satisfied: cffi>=1.12 in /usr/local/lib/python3.7/dist-packages (from cryptography->python-binance==0.7.5) (1.15.0)\n",
            "Requirement already satisfied: pycparser in /usr/local/lib/python3.7/dist-packages (from cffi>=1.12->cryptography->python-binance==0.7.5) (2.21)\n",
            "Requirement already satisfied: idna>=2.5 in /usr/local/lib/python3.7/dist-packages (from hyperlink>=21.0.0->autobahn->python-binance==0.7.5) (2.10)\n",
            "Requirement already satisfied: python-dateutil in /usr/local/lib/python3.7/dist-packages (from dateparser->python-binance==0.7.5) (2.8.2)\n",
            "Requirement already satisfied: regex!=2019.02.19,!=2021.8.27,<2022.3.15 in /usr/local/lib/python3.7/dist-packages (from dateparser->python-binance==0.7.5) (2019.12.20)\n",
            "Requirement already satisfied: pytz in /usr/local/lib/python3.7/dist-packages (from dateparser->python-binance==0.7.5) (2022.1)\n",
            "Requirement already satisfied: tzlocal in /usr/local/lib/python3.7/dist-packages (from dateparser->python-binance==0.7.5) (1.5.1)\n",
            "Requirement already satisfied: chardet<4,>=3.0.2 in /usr/local/lib/python3.7/dist-packages (from requests->python-binance==0.7.5) (3.0.4)\n",
            "Requirement already satisfied: attrs>=19.1.0 in /usr/local/lib/python3.7/dist-packages (from service-identity->python-binance==0.7.5) (21.4.0)\n",
            "Requirement already satisfied: pyasn1 in /usr/local/lib/python3.7/dist-packages (from service-identity->python-binance==0.7.5) (0.4.8)\n",
            "Requirement already satisfied: pyasn1-modules in /usr/local/lib/python3.7/dist-packages (from service-identity->python-binance==0.7.5) (0.2.8)\n",
            "Collecting constantly>=15.1\n",
            "  Downloading constantly-15.1.0-py2.py3-none-any.whl (7.9 kB)\n",
            "Requirement already satisfied: typing-extensions>=3.6.5 in /usr/local/lib/python3.7/dist-packages (from Twisted->python-binance==0.7.5) (4.2.0)\n",
            "Collecting zope.interface>=4.4.2\n",
            "  Downloading zope.interface-5.4.0-cp37-cp37m-manylinux2010_x86_64.whl (251 kB)\n",
            "\u001b[K     |████████████████████████████████| 251 kB 34.7 MB/s \n",
            "\u001b[?25hCollecting incremental>=21.3.0\n",
            "  Downloading incremental-21.3.0-py2.py3-none-any.whl (15 kB)\n",
            "Collecting Automat>=0.8.0\n",
            "  Downloading Automat-20.2.0-py2.py3-none-any.whl (31 kB)\n",
            "Building wheels for collected packages: autobahn\n",
            "  Building wheel for autobahn (setup.py) ... \u001b[?25l\u001b[?25hdone\n",
            "  Created wheel for autobahn: filename=autobahn-22.4.2-cp37-cp37m-linux_x86_64.whl size=580338 sha256=6261f4683092e64ac89ac71fa137fee54a4fbc477dcff4b6ee2c1c465e90220a\n",
            "  Stored in directory: /root/.cache/pip/wheels/ec/0b/fc/7cf072cb66e08c9365e03420a6447aa45da6f70dd4b08b223c\n",
            "Successfully built autobahn\n",
            "Installing collected packages: zope.interface, txaio, incremental, hyperlink, cryptography, constantly, Automat, Twisted, service-identity, pyOpenSSL, dateparser, autobahn, python-binance\n",
            "Successfully installed Automat-20.2.0 Twisted-22.4.0 autobahn-22.4.2 constantly-15.1.0 cryptography-37.0.2 dateparser-1.1.1 hyperlink-21.0.0 incremental-21.3.0 pyOpenSSL-22.0.0 python-binance-0.7.5 service-identity-21.1.0 txaio-22.2.1 zope.interface-5.4.0\n"
          ]
        },
        {
          "output_type": "display_data",
          "data": {
            "application/vnd.colab-display-data+json": {
              "pip_warning": {
                "packages": [
                  "binance"
                ]
              }
            }
          },
          "metadata": {}
        }
      ]
    },
    {
      "cell_type": "code",
      "source": [
        "import os\n",
        "os.kill(os.getpid(), 9)\n"
      ],
      "metadata": {
        "id": "DFI1uZngn3XL"
      },
      "execution_count": null,
      "outputs": []
    },
    {
      "cell_type": "code",
      "source": [
        " !pip install --upgrade python-binance"
      ],
      "metadata": {
        "colab": {
          "base_uri": "https://localhost:8080/",
          "height": 953
        },
        "id": "Hg-qNokroqVj",
        "outputId": "97fa2d92-6d41-496e-eb6b-351a16e68078"
      },
      "execution_count": null,
      "outputs": [
        {
          "output_type": "stream",
          "name": "stdout",
          "text": [
            "Looking in indexes: https://pypi.org/simple, https://us-python.pkg.dev/colab-wheels/public/simple/\n",
            "Requirement already satisfied: python-binance in /usr/local/lib/python3.7/dist-packages (0.7.5)\n",
            "Collecting python-binance\n",
            "  Downloading python_binance-1.0.16-py2.py3-none-any.whl (65 kB)\n",
            "\u001b[K     |████████████████████████████████| 65 kB 2.2 MB/s \n",
            "\u001b[?25hCollecting websockets\n",
            "  Downloading websockets-10.3-cp37-cp37m-manylinux_2_5_x86_64.manylinux1_x86_64.manylinux_2_12_x86_64.manylinux2010_x86_64.whl (112 kB)\n",
            "\u001b[K     |████████████████████████████████| 112 kB 11.0 MB/s \n",
            "\u001b[?25hRequirement already satisfied: dateparser in /usr/local/lib/python3.7/dist-packages (from python-binance) (1.1.1)\n",
            "Collecting ujson\n",
            "  Downloading ujson-5.3.0-cp37-cp37m-manylinux_2_17_x86_64.manylinux2014_x86_64.whl (45 kB)\n",
            "\u001b[K     |████████████████████████████████| 45 kB 3.2 MB/s \n",
            "\u001b[?25hCollecting aiohttp\n",
            "  Downloading aiohttp-3.8.1-cp37-cp37m-manylinux_2_5_x86_64.manylinux1_x86_64.manylinux_2_12_x86_64.manylinux2010_x86_64.whl (1.1 MB)\n",
            "\u001b[K     |████████████████████████████████| 1.1 MB 61.7 MB/s \n",
            "\u001b[?25hRequirement already satisfied: requests in /usr/local/lib/python3.7/dist-packages (from python-binance) (2.23.0)\n",
            "Requirement already satisfied: six in /usr/local/lib/python3.7/dist-packages (from python-binance) (1.15.0)\n",
            "Collecting aiosignal>=1.1.2\n",
            "  Downloading aiosignal-1.2.0-py3-none-any.whl (8.2 kB)\n",
            "Collecting async-timeout<5.0,>=4.0.0a3\n",
            "  Downloading async_timeout-4.0.2-py3-none-any.whl (5.8 kB)\n",
            "Requirement already satisfied: typing-extensions>=3.7.4 in /usr/local/lib/python3.7/dist-packages (from aiohttp->python-binance) (4.2.0)\n",
            "Collecting frozenlist>=1.1.1\n",
            "  Downloading frozenlist-1.3.0-cp37-cp37m-manylinux_2_5_x86_64.manylinux1_x86_64.manylinux_2_17_x86_64.manylinux2014_x86_64.whl (144 kB)\n",
            "\u001b[K     |████████████████████████████████| 144 kB 51.6 MB/s \n",
            "\u001b[?25hRequirement already satisfied: attrs>=17.3.0 in /usr/local/lib/python3.7/dist-packages (from aiohttp->python-binance) (21.4.0)\n",
            "Collecting asynctest==0.13.0\n",
            "  Downloading asynctest-0.13.0-py3-none-any.whl (26 kB)\n",
            "Requirement already satisfied: charset-normalizer<3.0,>=2.0 in /usr/local/lib/python3.7/dist-packages (from aiohttp->python-binance) (2.0.12)\n",
            "Collecting multidict<7.0,>=4.5\n",
            "  Downloading multidict-6.0.2-cp37-cp37m-manylinux_2_17_x86_64.manylinux2014_x86_64.whl (94 kB)\n",
            "\u001b[K     |████████████████████████████████| 94 kB 3.6 MB/s \n",
            "\u001b[?25hCollecting yarl<2.0,>=1.0\n",
            "  Downloading yarl-1.7.2-cp37-cp37m-manylinux_2_5_x86_64.manylinux1_x86_64.manylinux_2_12_x86_64.manylinux2010_x86_64.whl (271 kB)\n",
            "\u001b[K     |████████████████████████████████| 271 kB 51.0 MB/s \n",
            "\u001b[?25hRequirement already satisfied: idna>=2.0 in /usr/local/lib/python3.7/dist-packages (from yarl<2.0,>=1.0->aiohttp->python-binance) (2.10)\n",
            "Requirement already satisfied: regex!=2019.02.19,!=2021.8.27,<2022.3.15 in /usr/local/lib/python3.7/dist-packages (from dateparser->python-binance) (2019.12.20)\n",
            "Requirement already satisfied: tzlocal in /usr/local/lib/python3.7/dist-packages (from dateparser->python-binance) (1.5.1)\n",
            "Requirement already satisfied: pytz in /usr/local/lib/python3.7/dist-packages (from dateparser->python-binance) (2022.1)\n",
            "Requirement already satisfied: python-dateutil in /usr/local/lib/python3.7/dist-packages (from dateparser->python-binance) (2.8.2)\n",
            "Requirement already satisfied: urllib3!=1.25.0,!=1.25.1,<1.26,>=1.21.1 in /usr/local/lib/python3.7/dist-packages (from requests->python-binance) (1.24.3)\n",
            "Requirement already satisfied: chardet<4,>=3.0.2 in /usr/local/lib/python3.7/dist-packages (from requests->python-binance) (3.0.4)\n",
            "Requirement already satisfied: certifi>=2017.4.17 in /usr/local/lib/python3.7/dist-packages (from requests->python-binance) (2022.5.18.1)\n",
            "Installing collected packages: multidict, frozenlist, yarl, asynctest, async-timeout, aiosignal, websockets, ujson, aiohttp, python-binance\n",
            "  Attempting uninstall: python-binance\n",
            "    Found existing installation: python-binance 0.7.5\n",
            "    Uninstalling python-binance-0.7.5:\n",
            "      Successfully uninstalled python-binance-0.7.5\n",
            "Successfully installed aiohttp-3.8.1 aiosignal-1.2.0 async-timeout-4.0.2 asynctest-0.13.0 frozenlist-1.3.0 multidict-6.0.2 python-binance-1.0.16 ujson-5.3.0 websockets-10.3 yarl-1.7.2\n"
          ]
        },
        {
          "output_type": "display_data",
          "data": {
            "application/vnd.colab-display-data+json": {
              "pip_warning": {
                "packages": [
                  "binance"
                ]
              }
            }
          },
          "metadata": {}
        }
      ]
    },
    {
      "cell_type": "code",
      "source": [
        "import config, csv, binance\n",
        "from binance import Client\n",
        "\n",
        "api_key = secret(Dont share)\n",
        "api_secret = secret(Dont share)\n",
        "\n",
        "client = Client(api_key, api_secret)\n",
        "\n",
        "dataStart = '1 Jan, 2021'\n",
        "dataEnd = '2 Jan, 2021'\n",
        "datafile = 'BTCUSDT-20210101-20210102-1m.csv'\n",
        "csvfile = open(datafile, 'w', newline='')\n",
        "candlestick_writer = csv.writer(csvfile, delimiter=',')\n",
        "\n",
        "candlesticks = client.get_historical_klines(\"BTCUSDT\", Client.KLINE_INTERVAL_1MINUTE, dataStart, dataEnd)\n",
        "\n",
        "for candlestick in candlesticks:\n",
        "    candlestick[0] = candlestick[0] / 1000 # divide timestamp to ignore miliseconds\n",
        "    candlestick_writer.writerow(candlestick)\n",
        "\n",
        "csvfile.close()\n",
        "\n",
        "print(datafile, len(candlesticks))"
      ],
      "metadata": {
        "colab": {
          "base_uri": "https://localhost:8080/"
        },
        "id": "OMrTG4IMmSu6",
        "outputId": "17917a61-5f41-4618-f39d-97a3eb9e6bb1"
      },
      "execution_count": null,
      "outputs": [
        {
          "output_type": "stream",
          "name": "stdout",
          "text": [
            "BTCUSDT-20210101-20210102-1m.csv 1441\n"
          ]
        }
      ]
    },
    {
      "cell_type": "code",
      "source": [
        "candlesticks[0]"
      ],
      "metadata": {
        "colab": {
          "base_uri": "https://localhost:8080/"
        },
        "id": "KmW8-1mlmfqx",
        "outputId": "69a2abfa-0ffb-4118-b874-723885f5d1d7"
      },
      "execution_count": null,
      "outputs": [
        {
          "output_type": "execute_result",
          "data": {
            "text/plain": [
              "[1609459200.0,\n",
              " '28923.63000000',\n",
              " '28961.66000000',\n",
              " '28913.12000000',\n",
              " '28961.66000000',\n",
              " '27.45703200',\n",
              " 1609459259999,\n",
              " '794382.04398665',\n",
              " 1292,\n",
              " '16.77719500',\n",
              " '485390.82682460',\n",
              " '0']"
            ]
          },
          "metadata": {},
          "execution_count": 7
        }
      ]
    },
    {
      "cell_type": "code",
      "source": [
        "!pip install backtrader"
      ],
      "metadata": {
        "colab": {
          "base_uri": "https://localhost:8080/"
        },
        "id": "ZltywZWYui88",
        "outputId": "1c591933-35cb-45bd-e436-2e2a48244b4a"
      },
      "execution_count": null,
      "outputs": [
        {
          "output_type": "stream",
          "name": "stdout",
          "text": [
            "Looking in indexes: https://pypi.org/simple, https://us-python.pkg.dev/colab-wheels/public/simple/\n",
            "Collecting backtrader\n",
            "  Downloading backtrader-1.9.76.123-py2.py3-none-any.whl (410 kB)\n",
            "\u001b[K     |████████████████████████████████| 410 kB 8.0 MB/s \n",
            "\u001b[?25hInstalling collected packages: backtrader\n",
            "Successfully installed backtrader-1.9.76.123\n"
          ]
        }
      ]
    },
    {
      "cell_type": "code",
      "source": [
        "from __future__ import (absolute_import, division, print_function,\n",
        "                        unicode_literals)\n",
        "\n",
        "import datetime  # For datetime objects\n",
        "import backtrader as bt # Import the backtrader platfor\n",
        "\n",
        "\n",
        "class RSIStrategy(bt.Strategy):\n",
        "\n",
        "    params = (\n",
        "        ('verbose', False),\n",
        "        ('maperiod', None),\n",
        "        ('quantity', None),\n",
        "        ('upper', 70),         # upper threshold\n",
        "        ('lower', 30),         # lower threshold\n",
        "        ('stopLoss', 0.00)          # stop loss %\n",
        "    )\n",
        "\n",
        "\n",
        "    def __init__(self):\n",
        "\n",
        "        self.dataclose = self.datas[0].close\n",
        "        self.order = None\n",
        "        self.order_stopLoss = None\n",
        "        self.buyprice = None\n",
        "        self.buycomm = None\n",
        "        self.amount = None\n",
        "\n",
        "        # Add a MovingAverageSimple indicator\n",
        "        self.rsi = bt.indicators.RSI_SMA(self.datas[0], period=self.params.maperiod)\n",
        "\n",
        "\n",
        "    def notify_order(self, order):\n",
        "        if order.status in [order.Submitted, order.Accepted]:\n",
        "            # Buy/Sell order submitted/accepted to/by broker\n",
        "            return\n",
        "\n",
        "        # Check if an order has been completed\n",
        "        # Attention: broker could reject order if not enough cash\n",
        "        if order.status in [order.Completed]:\n",
        "            if order.isbuy():\n",
        "                self.buyprice = order.executed.price\n",
        "                self.buycomm = order.executed.comm\n",
        "\n",
        "                if self.params.verbose:\n",
        "                    print('BOUGHT @price: {:.2f} {}'.format(order.executed.price, bt.num2date(order.executed.dt)))\n",
        "                if self.params.stopLoss:\n",
        "                    if self.params.stopLoss > 0:\n",
        "                        stop_price = order.executed.price * (1 - self.params.stopLoss)\n",
        "                        self.order_stopLoss = self.sell(exectype=bt.Order.Stop, price=stop_price)\n",
        "                        if self.params.verbose:\n",
        "                            print('  STOP @price: {:.2f}'.format(stop_price))\n",
        "                    else:\n",
        "                        # trailing stop specified % under executed price\n",
        "                        self.order_stopLoss = self.sell(exectype=bt.Order.StopTrail, trailpercent=0-self.params.stopLoss)\n",
        "                        self.order_stopLoss.addinfo(ordername=\"STOPLONG\")\n",
        "                        if self.params.verbose:\n",
        "                            print('  STOP TRAILING')\n",
        "\n",
        "            else:\n",
        "                if not self.position:  # we left the market\n",
        "                    self.broker.cancel(self.order_stopLoss)\n",
        "                    self.order_stopLoss = None\n",
        "                    if self.params.verbose:\n",
        "                        print('SOLD @price: {:.2f} cost: {:.2f} comm: {:.2f} {}'.format(order.executed.price, order.executed.value, order.executed.comm, bt.num2date(order.executed.dt)))\n",
        "\n",
        "        self.order = None\n",
        "\n",
        "\n",
        "    def notify_trade(self, trade):\n",
        "        if not trade.isclosed:\n",
        "            return\n",
        "\n",
        "        if self.params.verbose:\n",
        "            print('PROFIT, GROSS %.2f, NET %.2f' % (trade.pnl, trade.pnlcomm))\n",
        "            print('_______________________________________________')\n",
        "\n",
        "\n",
        "\n",
        "    def next(self):\n",
        "\n",
        "        # Check if an order is pending ... if yes, we cannot send a 2nd one\n",
        "        if self.order:\n",
        "            return\n",
        "\n",
        "        # Check if we are in the market\n",
        "        if not self.position:\n",
        "\n",
        "            # Not yet ... we MIGHT BUY if ...\n",
        "            if self.rsi < self.params.lower:\n",
        "\n",
        "                # Keep track of the created order to avoid a 2nd order\n",
        "                self.amount = (self.broker.getvalue() * self.params.quantity) / self.dataclose[0]\n",
        "                self.order = self.buy()\n",
        "\n",
        "        else:\n",
        "            # Already in the market ... we might sell\n",
        "            if self.rsi > self.params.upper:\n",
        "\n",
        "                # Keep track of the created order to avoid a 2nd order\n",
        "                self.order = self.sell()\n",
        "\n",
        "\n",
        "\n",
        "# ______________________ End Strategy Classes\n",
        "\n",
        "\n",
        "\n",
        "def timeFrame(datapath):\n",
        "    \"\"\"\n",
        "    Select the write compression and timeframe.\n",
        "    \"\"\"\n",
        "    sepdatapath = datapath[5:-4].split(sep='-') # ignore name file 'data/' and '.csv'\n",
        "    tf = sepdatapath[3]\n",
        "\n",
        "    if tf == '1m':\n",
        "        compression = 1\n",
        "        timeframe = bt.TimeFrame.Minutes\n",
        "    else:\n",
        "        print('dataframe not recognized')\n",
        "        exit()\n",
        "\n",
        "    return compression, timeframe\n",
        "\n",
        "\n",
        "def getWinLoss(analyzer):\n",
        "    return analyzer.won.total, analyzer.lost.total, analyzer.pnl.net.total\n",
        "\n",
        "\n",
        "def getSQN(analyzer):\n",
        "    return round(analyzer.sqn,2)\n",
        "\n",
        "\n",
        "\n",
        "def runbacktest(datapath, start, end, period, strategy, \\\n",
        "                upper=70, lower=30, commission_val=None, portofolio=10000.0, stake_val=1, quantity=0.01, stopLoss=0.0, plt=False):\n",
        "\n",
        "    # Create a cerebro entity\n",
        "    cerebro = bt.Cerebro()\n",
        "\n",
        "    # Add a FixedSize sizer according to the stake\n",
        "    cerebro.addsizer(bt.sizers.FixedSize, stake=stake_val) # Multiply the stake by X\n",
        "\n",
        "    cerebro.broker.setcash(portofolio)\n",
        "\n",
        "    if commission_val:\n",
        "        cerebro.broker.setcommission(commission=commission_val/100)\n",
        "\n",
        "    # Add a strategy\n",
        "    if strategy == 'SMA':\n",
        "        cerebro.addstrategy(SMAStrategy, maperiod=period, quantity=quantity, stopLoss=stopLoss, upper=upper, lower=lower)\n",
        "    elif strategy == 'RSI':\n",
        "        cerebro.addstrategy(RSIStrategy, maperiod=period, quantity=quantity, stopLoss=stopLoss, upper=upper, lower=lower)\n",
        "    else :\n",
        "        print('no strategy')\n",
        "        exit()\n",
        "\n",
        "    compression, timeframe = timeFrame(datapath)\n",
        "\n",
        "    # Create a Data Feed\n",
        "    data = bt.feeds.GenericCSVData(\n",
        "        dataname = datapath,\n",
        "        dtformat = 2, \n",
        "        compression = compression, \n",
        "        timeframe = timeframe,\n",
        "        fromdate = datetime.datetime.strptime(start, '%Y-%m-%d'),\n",
        "        todate = datetime.datetime.strptime(end, '%Y-%m-%d'),\n",
        "        reverse = False)\n",
        "\n",
        "\n",
        "    # Add the Data Feed to Cerebro\n",
        "    cerebro.adddata(data)\n",
        "\n",
        "\n",
        "    cerebro.addanalyzer(bt.analyzers.TradeAnalyzer, _name=\"ta\")\n",
        "    cerebro.addanalyzer(bt.analyzers.SQN, _name=\"sqn\")\n",
        "\n",
        "#    try:     # convenience try/exception block\n",
        "    if True:\n",
        "        strat = cerebro.run()\n",
        "        stratexe = strat[0]\n",
        "\n",
        "        try:\n",
        "            totalwin, totalloss, pnl_net = getWinLoss(stratexe.analyzers.ta.get_analysis())\n",
        "        except KeyError:\n",
        "            totalwin, totalloss, pnl_net = 0, 0, 0\n",
        "\n",
        "        sqn = getSQN(stratexe.analyzers.sqn.get_analysis())\n",
        "\n",
        "        if plt:\n",
        "            cerebro.plot()\n",
        "\n",
        "        return cerebro.broker.getvalue(), totalwin, totalloss, pnl_net, sqn\n",
        "\n",
        " #   except Exception as e:         # handle unexpected errors gracefully\n",
        " #       print('Error:', str(e))\n",
        " #       return 0, 0, 0, 0, 0\n"
      ],
      "metadata": {
        "id": "4UAdIwFts27W"
      },
      "execution_count": null,
      "outputs": []
    },
    {
      "cell_type": "code",
      "source": [
        "!pip install backtest"
      ],
      "metadata": {
        "colab": {
          "base_uri": "https://localhost:8080/"
        },
        "id": "-DMlpA3hvAWz",
        "outputId": "8fe9347d-8ed7-429b-f7a3-3e865cfae4bc"
      },
      "execution_count": null,
      "outputs": [
        {
          "output_type": "stream",
          "name": "stdout",
          "text": [
            "Looking in indexes: https://pypi.org/simple, https://us-python.pkg.dev/colab-wheels/public/simple/\n",
            "\u001b[31mERROR: Could not find a version that satisfies the requirement backtest (from versions: none)\u001b[0m\n",
            "\u001b[31mERROR: No matching distribution found for backtest\u001b[0m\n"
          ]
        }
      ]
    },
    {
      "cell_type": "code",
      "source": [
        "import csv, os\n",
        "\n",
        "commission_val = 0.0075 # spot% taker fees binance usdt futures\n",
        "start_portfolio = 100000.0\n",
        "portfolio = start_portfolio\n",
        "stake_val = 1\n",
        "quantity = 0.10\n",
        "\n",
        "xchange = 'BTCUSDT'\n",
        "start = '2021-01-01'\n",
        "end = '2021-01-02'\n",
        "strategy = 'RSI'\n",
        "period = 12\n",
        "stopLoss = 0\n",
        "limits = [70,30]\n",
        "subdir = 'data2'\n",
        "plot = True\n",
        "datapath = '/content/BTCUSDT-20210101-20210102-1m.csv'\n",
        "\n",
        "print('\\n ------------ ', datapath)\n",
        "        \n",
        "            \n",
        "end_val, totalwin, totalloss, pnl_net, sqn = runbacktest(datapath, start, end, period, strategy, \\\n",
        "                                                                    limits[0], limits[1], commission_val, portfolio, stake_val, quantity, stopLoss, plot)\n",
        "\n",
        "profit = (pnl_net / portfolio) * 100\n",
        "\n",
        "# view the data in the console while processing\n",
        "print('%s, %s (Pd %d) (SL %.1f%%) (U%d L%d) Net $%.2f (%.2f%%) WL %d/%d SQN %.2f' % (datapath[5:], strategy, period, stopLoss*100, limits[0], limits[1], end_val - start_portfolio, (end_val - start_portfolio)/start_portfolio*100, totalwin, totalloss, sqn))\n",
        "\n",
        "result_writer.writerow([start, strategy, period, stopLoss*100, limits[0], limits[1], \"{:.2f}\".format(end_val - start_portfolio), totalwin, totalloss, sqn])\n",
        "\n",
        "\n",
        "csvfile.close()"
      ],
      "metadata": {
        "colab": {
          "base_uri": "https://localhost:8080/",
          "height": 69
        },
        "id": "Xrk_2x2_ue6a",
        "outputId": "7cc67bd5-ef9c-483f-a870-a452d98c4d56"
      },
      "execution_count": null,
      "outputs": [
        {
          "output_type": "stream",
          "name": "stdout",
          "text": [
            "\n",
            " ------------  /content/BTCUSDT-20210101-20210102-1m.csv\n",
            "ent/BTCUSDT-20210101-20210102-1m.csv, RSI (Pd 12) (SL 0.0%) (U70 L30) Net $777.78 (0.78%) WL 18/7 SQN 1.76\n"
          ]
        }
      ]
    },
    {
      "cell_type": "code",
      "source": [
        "import csv, os\n",
        "import time\n",
        "\n",
        "commission_val = 0.0075 # spot% taker fees binance usdt futures\n",
        "start_portfolio = 100000.0\n",
        "portfolio = start_portfolio\n",
        "stake_val = 1\n",
        "quantity = 0.10\n",
        "\n",
        "xchange = 'BTCUSDT'\n",
        "start = '2021-01-01'\n",
        "end = '2021-01-08'\n",
        "strategies = ['RSI']\n",
        "periodRange = range(12, 30)\n",
        "stopLossRange = [0]\n",
        "limits = [[70,30]]\n",
        "\n",
        "#stopLossRange = [0, 0.001, 0.005, 0.01, -0.01]\n",
        "#limits = [[70,30], [70,25], [60,25], [65,25], [70,20]]\n",
        "#subdir = 'data2'\n",
        "plot = False\n",
        "datapath = 'BTCUSDT-20210101-20210102-1m.csv'\n",
        "\n",
        "\n",
        "#dataname = 'result/{}-{}-{}-{}.csv'.format(xchange, start, end, '1m')\n",
        "#csvfile = open(dataname, 'w', newline='', encoding='UTF8')\n",
        "#result_writer = csv.writer(csvfile, delimiter=',')\n",
        "\n",
        "startTime = time.time()\n",
        "\n",
        "#for data in os.listdir(\"./\"+subdir):\n",
        "        \n",
        "#datapath = subdir + '/' + data\n",
        "#sep = datapath[len(subdir)+1:-4].split(sep='-') # ignore name file 'data/' and '.csv'\n",
        "    # sep[0] = xchange  sep[1] = start  sep[2] = end  sep[3] = timeframe\n",
        "\n",
        "print('\\n ________________ ', datapath)\n",
        "        \n",
        "for strategy in strategies:\n",
        "\n",
        "    for stopLoss in stopLossRange:\n",
        "\n",
        "        for period in periodRange:\n",
        "\n",
        "            for threshold in limits:\n",
        "                \n",
        "                end_val, totalwin, totalloss, pnl_net, sqn = runbacktest(datapath, start, end, period, strategy, \\\n",
        "                                                                                    threshold[0], threshold[1], commission_val, portfolio, stake_val, quantity, stopLoss, plot)\n",
        "\n",
        "                profit = (pnl_net / portfolio) * 100\n",
        "\n",
        "                # view the data in the console while processing\n",
        "                print('%s, %s (Pd %d) (SL %.1f%%) (U%d L%d) Net $%.2f (%.2f%%) WL %d/%d SQN %.2f' % (datapath[5:], strategy, period, stopLoss*100, threshold[0], threshold[1], end_val - start_portfolio, (end_val - start_portfolio)/start_portfolio*100, totalwin, totalloss, sqn))\n",
        "\n",
        "                #result_writer.writerow([sep[1], strategy, period, stopLoss*100, threshold[0], threshold[1], \"{:.2f}\".format(end_val - start_portfolio), totalwin, totalloss, sqn])\n",
        "\n",
        "\n",
        "#csvfile.close()\n",
        "\n",
        "endTime = time.time()\n",
        "print()\n",
        "print('elapsed secs:' + str(endTime - startTime))"
      ],
      "metadata": {
        "id": "hOly8lU_u-Vt",
        "colab": {
          "base_uri": "https://localhost:8080/"
        },
        "outputId": "dd646e8f-eb60-43be-dfc3-4bee88eaa912"
      },
      "execution_count": null,
      "outputs": [
        {
          "output_type": "stream",
          "name": "stdout",
          "text": [
            "\n",
            " ________________  BTCUSDT-20210101-20210102-1m.csv\n",
            "DT-20210101-20210102-1m.csv, RSI (Pd 12) (SL 0.0%) (U70 L30) Net $777.78 (0.78%) WL 18/7 SQN 1.76\n",
            "DT-20210101-20210102-1m.csv, RSI (Pd 13) (SL 0.0%) (U70 L30) Net $189.57 (0.19%) WL 10/9 SQN 0.49\n",
            "DT-20210101-20210102-1m.csv, RSI (Pd 14) (SL 0.0%) (U70 L30) Net $736.26 (0.74%) WL 10/6 SQN 1.72\n",
            "DT-20210101-20210102-1m.csv, RSI (Pd 15) (SL 0.0%) (U70 L30) Net $701.66 (0.70%) WL 8/6 SQN 2.11\n",
            "DT-20210101-20210102-1m.csv, RSI (Pd 16) (SL 0.0%) (U70 L30) Net $741.64 (0.74%) WL 11/3 SQN 2.15\n",
            "DT-20210101-20210102-1m.csv, RSI (Pd 17) (SL 0.0%) (U70 L30) Net $596.69 (0.60%) WL 8/4 SQN 1.71\n",
            "DT-20210101-20210102-1m.csv, RSI (Pd 18) (SL 0.0%) (U70 L30) Net $773.33 (0.77%) WL 8/3 SQN 1.93\n",
            "DT-20210101-20210102-1m.csv, RSI (Pd 19) (SL 0.0%) (U70 L30) Net $762.12 (0.76%) WL 6/4 SQN 1.87\n",
            "DT-20210101-20210102-1m.csv, RSI (Pd 20) (SL 0.0%) (U70 L30) Net $-21.51 (-0.02%) WL 2/3 SQN -0.05\n",
            "DT-20210101-20210102-1m.csv, RSI (Pd 21) (SL 0.0%) (U70 L30) Net $-57.68 (-0.06%) WL 1/3 SQN -0.16\n",
            "DT-20210101-20210102-1m.csv, RSI (Pd 22) (SL 0.0%) (U70 L30) Net $9.16 (0.01%) WL 2/3 SQN 0.03\n",
            "DT-20210101-20210102-1m.csv, RSI (Pd 23) (SL 0.0%) (U70 L30) Net $72.28 (0.07%) WL 2/2 SQN 0.25\n",
            "DT-20210101-20210102-1m.csv, RSI (Pd 24) (SL 0.0%) (U70 L30) Net $-71.98 (-0.07%) WL 1/2 SQN -0.51\n",
            "DT-20210101-20210102-1m.csv, RSI (Pd 25) (SL 0.0%) (U70 L30) Net $13.07 (0.01%) WL 2/1 SQN 0.09\n",
            "DT-20210101-20210102-1m.csv, RSI (Pd 26) (SL 0.0%) (U70 L30) Net $144.34 (0.14%) WL 2/1 SQN 0.63\n",
            "DT-20210101-20210102-1m.csv, RSI (Pd 27) (SL 0.0%) (U70 L30) Net $401.61 (0.40%) WL 2/0 SQN 3.63\n",
            "DT-20210101-20210102-1m.csv, RSI (Pd 28) (SL 0.0%) (U70 L30) Net $639.60 (0.64%) WL 3/0 SQN 4.23\n",
            "DT-20210101-20210102-1m.csv, RSI (Pd 29) (SL 0.0%) (U70 L30) Net $440.38 (0.44%) WL 2/0 SQN 3.80\n",
            "\n",
            "elapsed secs:5.640216827392578\n"
          ]
        }
      ]
    },
    {
      "cell_type": "code",
      "source": [
        ""
      ],
      "metadata": {
        "id": "NGk86MM7_Lrx"
      },
      "execution_count": null,
      "outputs": []
    }
  ]
}